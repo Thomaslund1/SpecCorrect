{
 "cells": [
  {
   "cell_type": "markdown",
   "id": "89fd6715-65c4-41d1-9ba2-1a2b168def62",
   "metadata": {},
   "source": [
    "# Reference File Generation Example Notebook "
   ]
  },
  {
   "cell_type": "code",
   "execution_count": null,
   "id": "61d1952e-ec34-46a0-a112-f15cac2d8e1f",
   "metadata": {},
   "outputs": [],
   "source": [
    "import lib "
   ]
  },
  {
   "cell_type": "markdown",
   "id": "b58e6c4b-37bc-410d-bd74-2ce71e062426",
   "metadata": {},
   "source": [
    "#### The first argument is the file path where the processed linefits data is located. Ensure that this file is an npy file and not an npz file. The second argument is the file path where the new reference file will be saved. If the file is just given a name, the file will be saved to the current working dircetoy. "
   ]
  },
  {
   "cell_type": "code",
   "execution_count": null,
   "id": "e6f9d1c8-2ce5-48de-bf6b-7dbb9953846a",
   "metadata": {},
   "outputs": [],
   "source": [
    "lib.reference_file_maker('/data1/linefits/original_referencefile','/data1/support_files/example_referencefile')"
   ]
  }
 ],
 "metadata": {
  "kernelspec": {
   "display_name": "Python 3 (ipykernel)",
   "language": "python",
   "name": "python3"
  },
  "language_info": {
   "codemirror_mode": {
    "name": "ipython",
    "version": 3
   },
   "file_extension": ".py",
   "mimetype": "text/x-python",
   "name": "python",
   "nbconvert_exporter": "python",
   "pygments_lexer": "ipython3",
   "version": "3.11.7"
  }
 },
 "nbformat": 4,
 "nbformat_minor": 5
}
